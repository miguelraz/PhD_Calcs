{
 "cells": [
  {
   "cell_type": "code",
   "execution_count": 1,
   "metadata": {},
   "outputs": [
    {
     "name": "stderr",
     "output_type": "stream",
     "text": [
      "\n",
      "Bad key text.latex.unicode in file /home/arurz/.local/lib/python3.6/site-packages/matplotlib/mpl-data/stylelib/_classic_test.mplstyle, line 112 ('text.latex.unicode : False # use \"ucs\" and \"inputenc\" LaTeX packages for handling')\n",
      "You probably need to get an updated matplotlibrc file from\n",
      "https://github.com/matplotlib/matplotlib/blob/v3.3.0/matplotlibrc.template\n",
      "or from the matplotlib source distribution\n",
      "\n",
      "Bad key savefig.frameon in file /home/arurz/.local/lib/python3.6/site-packages/matplotlib/mpl-data/stylelib/_classic_test.mplstyle, line 423 ('savefig.frameon : True')\n",
      "You probably need to get an updated matplotlibrc file from\n",
      "https://github.com/matplotlib/matplotlib/blob/v3.3.0/matplotlibrc.template\n",
      "or from the matplotlib source distribution\n",
      "\n",
      "Bad key pgf.debug in file /home/arurz/.local/lib/python3.6/site-packages/matplotlib/mpl-data/stylelib/_classic_test.mplstyle, line 444 ('pgf.debug           : False')\n",
      "You probably need to get an updated matplotlibrc file from\n",
      "https://github.com/matplotlib/matplotlib/blob/v3.3.0/matplotlibrc.template\n",
      "or from the matplotlib source distribution\n",
      "\n",
      "Bad key verbose.level in file /home/arurz/.local/lib/python3.6/site-packages/matplotlib/mpl-data/stylelib/_classic_test.mplstyle, line 475 ('verbose.level  : silent      # one of silent, helpful, debug, debug-annoying')\n",
      "You probably need to get an updated matplotlibrc file from\n",
      "https://github.com/matplotlib/matplotlib/blob/v3.3.0/matplotlibrc.template\n",
      "or from the matplotlib source distribution\n",
      "\n",
      "Bad key verbose.fileo in file /home/arurz/.local/lib/python3.6/site-packages/matplotlib/mpl-data/stylelib/_classic_test.mplstyle, line 476 ('verbose.fileo  : sys.stdout  # a log filename, sys.stdout or sys.stderr')\n",
      "You probably need to get an updated matplotlibrc file from\n",
      "https://github.com/matplotlib/matplotlib/blob/v3.3.0/matplotlibrc.template\n",
      "or from the matplotlib source distribution\n",
      "In /home/arurz/.local/lib/python3.6/site-packages/matplotlib/mpl-data/stylelib/_classic_test.mplstyle: \n",
      "The text.latex.preview rcparam was deprecated in Matplotlib 3.3 and will be removed two minor releases later.\n",
      "In /home/arurz/.local/lib/python3.6/site-packages/matplotlib/mpl-data/stylelib/_classic_test.mplstyle: \n",
      "The mathtext.fallback_to_cm rcparam was deprecated in Matplotlib 3.3 and will be removed two minor releases later.\n",
      "In /home/arurz/.local/lib/python3.6/site-packages/matplotlib/mpl-data/stylelib/_classic_test.mplstyle: Support for setting the 'mathtext.fallback_to_cm' rcParam is deprecated since 3.3 and will be removed two minor releases later; use 'mathtext.fallback : 'cm' instead.\n",
      "In /home/arurz/.local/lib/python3.6/site-packages/matplotlib/mpl-data/stylelib/_classic_test.mplstyle: \n",
      "The validate_bool_maybe_none function was deprecated in Matplotlib 3.3 and will be removed two minor releases later.\n",
      "In /home/arurz/.local/lib/python3.6/site-packages/matplotlib/mpl-data/stylelib/_classic_test.mplstyle: \n",
      "The savefig.jpeg_quality rcparam was deprecated in Matplotlib 3.3 and will be removed two minor releases later.\n",
      "In /home/arurz/.local/lib/python3.6/site-packages/matplotlib/mpl-data/stylelib/_classic_test.mplstyle: \n",
      "The keymap.all_axes rcparam was deprecated in Matplotlib 3.3 and will be removed two minor releases later.\n",
      "In /home/arurz/.local/lib/python3.6/site-packages/matplotlib/mpl-data/stylelib/_classic_test.mplstyle: \n",
      "The animation.avconv_path rcparam was deprecated in Matplotlib 3.3 and will be removed two minor releases later.\n",
      "In /home/arurz/.local/lib/python3.6/site-packages/matplotlib/mpl-data/stylelib/_classic_test.mplstyle: \n",
      "The animation.avconv_args rcparam was deprecated in Matplotlib 3.3 and will be removed two minor releases later.\n"
     ]
    }
   ],
   "source": [
    "using PyCall\n",
    "using PyPlot\n",
    "using LaTeXStrings\n",
    "using LinearAlgebra"
   ]
  },
  {
   "cell_type": "code",
   "execution_count": 2,
   "metadata": {},
   "outputs": [
    {
     "data": {
      "text/plain": [
       "PyObject <module 'mpmath' from '/home/arurz/.local/lib/python3.6/site-packages/mpmath/__init__.py'>"
      ]
     },
     "execution_count": 2,
     "metadata": {},
     "output_type": "execute_result"
    }
   ],
   "source": [
    "mp = pyimport(\"mpmath\")"
   ]
  },
  {
   "cell_type": "code",
   "execution_count": 3,
   "metadata": {},
   "outputs": [],
   "source": [
    "rc(\"text\", usetex=true)"
   ]
  },
  {
   "cell_type": "code",
   "execution_count": 4,
   "metadata": {},
   "outputs": [],
   "source": [
    "function nbinom(n,k); # Binomial coefficient in terms of the Gamma function\n",
    "    return 1/((n+1)*convert(Float64,mp.beta(k+1, n-k+1)))\n",
    "end\n",
    "\n",
    "function krav(i,j) # Kravchuk symmetric polynomial in terms of 2F1\n",
    "    return convert(Float64,mp.hyp2f1(-j,-i,-N,1/p,zeroprec = 250))\n",
    "end\n",
    ";"
   ]
  },
  {
   "cell_type": "code",
   "execution_count": 5,
   "metadata": {},
   "outputs": [],
   "source": [
    "N = 32\n",
    "dim = N+1\n",
    "p = 1/2\n",
    "\n",
    "t_list = range(0,stop=61,length=61)\n",
    "\n",
    ";"
   ]
  },
  {
   "cell_type": "code",
   "execution_count": 6,
   "metadata": {},
   "outputs": [],
   "source": [
    "function omega(j)\n",
    "    return nbinom(N,j)*(p^j)*(1-p)^(N-j)\n",
    "end\n",
    "\n",
    "function h(i)\n",
    "    return (((1-p)/p)^i)/(nbinom(N,i))\n",
    "end\n",
    ";"
   ]
  },
  {
   "cell_type": "code",
   "execution_count": 7,
   "metadata": {},
   "outputs": [],
   "source": [
    "function K(i,j)\n",
    "    return sqrt(omega(j)/h(i))*krav(i,j)\n",
    "end\n",
    ";"
   ]
  },
  {
   "cell_type": "code",
   "execution_count": 8,
   "metadata": {},
   "outputs": [],
   "source": [
    "KT = zeros(Float64,(dim,dim))\n",
    "\n",
    "for l in 0:N\n",
    "    for m in 0:N\n",
    "        KT[l+1,m+1] = K(l,m)\n",
    "    end\n",
    "end\n"
   ]
  },
  {
   "cell_type": "code",
   "execution_count": 9,
   "metadata": {},
   "outputs": [],
   "source": [
    "function pint(a)\n",
    "    pv = zeros(Float64,dim)\n",
    "    for j in 0:N\n",
    "        if a == j\n",
    "            pv[j+1] = 1\n",
    "        else\n",
    "            pv[j+1] = 0\n",
    "        end\n",
    "    end\n",
    "    return pv\n",
    "end\n",
    ";"
   ]
  },
  {
   "cell_type": "code",
   "execution_count": 10,
   "metadata": {},
   "outputs": [],
   "source": [
    "function osc(t,n)\n",
    "    return cos(t*sqrt(n))\n",
    "end\n",
    ";"
   ]
  },
  {
   "cell_type": "code",
   "execution_count": 11,
   "metadata": {},
   "outputs": [
    {
     "name": "stdout",
     "output_type": "stream",
     "text": [
      "  0.193766 seconds (325.96 k allocations: 15.654 MiB)\n"
     ]
    }
   ],
   "source": [
    "oscm = zeros(Float64,(dim,length(t_list)))\n",
    "@time for t in 1:length(t_list)\n",
    "    for n in 0:N\n",
    "        oscm[n+1,t]=osc(t_list[t],n)\n",
    "    end\n",
    "end"
   ]
  },
  {
   "cell_type": "code",
   "execution_count": 12,
   "metadata": {},
   "outputs": [],
   "source": [
    "icond1 = normalize(pint(0))\n",
    "\n",
    "function q1(t,m)\n",
    "    mevol = zeros(Float64,(dim,dim))\n",
    "    for n in 0:N\n",
    "        for l in 0:N\n",
    "            mevol[n+1,l+1] = KT[m,n+1]*oscm[n+1,t]*KT[l+1,n+1]*icond1[l+1]\n",
    "        end\n",
    "    end\n",
    "    return sum(mevol)\n",
    "end\n",
    "\n",
    "icond2 = normalize(pint(8)+pint(24))\n",
    "\n",
    "function q2(t,m)\n",
    "    mevol = zeros(Float64,(dim,dim))\n",
    "    for n in 0:N\n",
    "        for l in 0:N\n",
    "            mevol[n+1,l+1] = KT[m,n+1]*oscm[n+1,t]*KT[l+1,n+1]*icond2[l+1]\n",
    "        end\n",
    "    end\n",
    "    return sum(mevol)\n",
    "end\n",
    "\n",
    "icond3 = normalize(pint(16))\n",
    "\n",
    "function q3(t,m)\n",
    "    mevol = zeros(Float64,(dim,dim))\n",
    "    for n in 0:N\n",
    "        for l in 0:N\n",
    "            mevol[n+1,l+1] = KT[m,n+1]*oscm[n+1,t]*KT[l+1,n+1]*icond3[l+1]\n",
    "        end\n",
    "    end\n",
    "    return sum(mevol)\n",
    "end\n",
    ";"
   ]
  },
  {
   "cell_type": "code",
   "execution_count": 13,
   "metadata": {},
   "outputs": [],
   "source": [
    "evolt1 = zeros(Float64,(dim,length(t_list)))\n",
    "for t in 1:length(t_list)\n",
    "    for n in 0:N    \n",
    "       evolt1[n+1,t] = q1(t,n+1)\n",
    "    end\n",
    "end\n",
    "\n",
    "evolt2 = zeros(Float64,(dim,length(t_list)))\n",
    "for t in 1:length(t_list)\n",
    "    for n in 0:N    \n",
    "       evolt2[n+1,t] = q2(t,n+1)\n",
    "    end\n",
    "end\n",
    "\n",
    "evolt3 = zeros(Float64,(dim,length(t_list)))\n",
    "for t in 1:length(t_list)\n",
    "    for n in 0:N    \n",
    "       evolt3[n+1,t] = q3(t,n+1)\n",
    "    end\n",
    "end"
   ]
  },
  {
   "cell_type": "code",
   "execution_count": 14,
   "metadata": {},
   "outputs": [],
   "source": [
    "vminh=-1 #minimum((minimum(evolt1),minimum(evolt2),minimum(evolt3)))\n",
    "vmaxh=maximum((maximum(evolt1),maximum(evolt2),maximum(evolt3)))\n",
    ";"
   ]
  },
  {
   "cell_type": "code",
   "execution_count": 20,
   "metadata": {},
   "outputs": [
    {
     "data": {
      "image/png": "[encoded data removed]",
      "text/plain": [
       "Figure(PyObject <Figure size 620x620 with 4 Axes>)"
      ]
     },
     "metadata": {},
     "output_type": "display_data"
    }
   ],
   "source": [
    "cm = \"seismic\"\n",
    "\n",
    "ww = 6.20\n",
    "hh = ww\n",
    "\n",
    "fig,(ax1,ax2,ax3)=plt.subplots(3,1,figsize=(ww,hh),sharex=true)\n",
    "plt.subplots_adjust(hspace = 0.1)\n",
    "\n",
    "ax1.imshow(evolt1,vmin=vminh,vmax=vmaxh,cmap=cm)\n",
    "ax2.imshow(evolt2,vmin=vminh,vmax=vmaxh,cmap=cm)\n",
    "ax3.imshow(evolt3,vmin=vminh,vmax=vmaxh,cmap=cm)\n",
    "\n",
    "ax1.set_aspect(\"auto\")\n",
    "ax2.set_aspect(\"auto\")\n",
    "ax3.set_aspect(\"auto\")\n",
    "\n",
    "ax1.tick_params(direction=\"out\",length=5,width=2,labelsize=10)\n",
    "ax2.tick_params(direction=\"out\",length=5,width=2,labelsize=10)\n",
    "ax3.tick_params(direction=\"out\",length=5,width=2,labelsize=10)\n",
    "\n",
    "ax1.set_yticks(0:8:N, minor = false)\n",
    "ax2.set_yticks(0:8:N, minor = false)\n",
    "ax3.set_yticks(0:8:N, minor = false)\n",
    "\n",
    "ax1.set_yticks(1:1:N, minor = true)\n",
    "ax1.grid(which = \"minor\", color = \"gray\", linestyle = \"-\", linewidth = 1, alpha = 0.25)\n",
    "ax2.set_yticks(1:1:N, minor = true)\n",
    "ax2.grid(which = \"minor\", color = \"gray\", linestyle = \"-\", linewidth = 1, alpha = 0.25)\n",
    "ax3.set_yticks(1:1:N, minor = true)\n",
    "ax3.grid(which = \"minor\", color = \"gray\", linestyle = \"-\", linewidth = 1, alpha = 0.25)\n",
    "\n",
    "ax1.set_ylabel(L\"q_{n}(t)\",fontsize=10)\n",
    "ax2.set_ylabel(L\"q_{n}(t)\",fontsize=10)\n",
    "ax3.set_ylabel(L\"q_{n}(t)\",fontsize=10)\n",
    "\n",
    "ax3.set_xlabel(L\"t\\ [s]\",fontsize=10)\n",
    "\n",
    "pcm = ax1.get_children()[10]\n",
    "cb = colorbar(pcm,ax=(ax1,ax2,ax3),extend=\"both\",ticks=[-1,-0.5,0,0.5,1],orientation=\"vertical\",shrink=0.7,aspect=35,fraction=0.015)\n",
    "cb.ax.tick_params(labelsize=10,length=5,width=1,direction=\"inout\")\n",
    "#cb.ax.set_ylabel(\"Amplitud\",fontsize=12,labelpad=0)\n",
    "\n",
    "tight_layout(rect=(0, 0, 0.9, 1))\n",
    "show()\n",
    "\n",
    "savefig(\"krav_vd.pdf\", transparent = \"true\", dpi=300, bbox_inches=\"tight\", pad_inches=0)"
   ]
  },
  {
   "cell_type": "code",
   "execution_count": null,
   "metadata": {},
   "outputs": [],
   "source": []
  }
 ],
 "metadata": {
  "kernelspec": {
   "display_name": "Julia 1.3.1",
   "language": "julia",
   "name": "julia-1.3"
  },
  "language_info": {
   "file_extension": ".jl",
   "mimetype": "application/julia",
   "name": "julia",
   "version": "1.3.1"
  }
 },
 "nbformat": 4,
 "nbformat_minor": 2
}
