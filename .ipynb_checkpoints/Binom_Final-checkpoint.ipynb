{
 "cells": [
  {
   "cell_type": "code",
   "execution_count": 1,
   "metadata": {},
   "outputs": [
    {
     "name": "stderr",
     "output_type": "stream",
     "text": [
      "\n",
      "Bad key text.latex.unicode in file /home/arurz/.local/lib/python3.6/site-packages/matplotlib/mpl-data/stylelib/_classic_test.mplstyle, line 112 ('text.latex.unicode : False # use \"ucs\" and \"inputenc\" LaTeX packages for handling')\n",
      "You probably need to get an updated matplotlibrc file from\n",
      "https://github.com/matplotlib/matplotlib/blob/v3.3.0/matplotlibrc.template\n",
      "or from the matplotlib source distribution\n",
      "\n",
      "Bad key savefig.frameon in file /home/arurz/.local/lib/python3.6/site-packages/matplotlib/mpl-data/stylelib/_classic_test.mplstyle, line 423 ('savefig.frameon : True')\n",
      "You probably need to get an updated matplotlibrc file from\n",
      "https://github.com/matplotlib/matplotlib/blob/v3.3.0/matplotlibrc.template\n",
      "or from the matplotlib source distribution\n",
      "\n",
      "Bad key pgf.debug in file /home/arurz/.local/lib/python3.6/site-packages/matplotlib/mpl-data/stylelib/_classic_test.mplstyle, line 444 ('pgf.debug           : False')\n",
      "You probably need to get an updated matplotlibrc file from\n",
      "https://github.com/matplotlib/matplotlib/blob/v3.3.0/matplotlibrc.template\n",
      "or from the matplotlib source distribution\n",
      "\n",
      "Bad key verbose.level in file /home/arurz/.local/lib/python3.6/site-packages/matplotlib/mpl-data/stylelib/_classic_test.mplstyle, line 475 ('verbose.level  : silent      # one of silent, helpful, debug, debug-annoying')\n",
      "You probably need to get an updated matplotlibrc file from\n",
      "https://github.com/matplotlib/matplotlib/blob/v3.3.0/matplotlibrc.template\n",
      "or from the matplotlib source distribution\n",
      "\n",
      "Bad key verbose.fileo in file /home/arurz/.local/lib/python3.6/site-packages/matplotlib/mpl-data/stylelib/_classic_test.mplstyle, line 476 ('verbose.fileo  : sys.stdout  # a log filename, sys.stdout or sys.stderr')\n",
      "You probably need to get an updated matplotlibrc file from\n",
      "https://github.com/matplotlib/matplotlib/blob/v3.3.0/matplotlibrc.template\n",
      "or from the matplotlib source distribution\n",
      "In /home/arurz/.local/lib/python3.6/site-packages/matplotlib/mpl-data/stylelib/_classic_test.mplstyle: \n",
      "The text.latex.preview rcparam was deprecated in Matplotlib 3.3 and will be removed two minor releases later.\n",
      "In /home/arurz/.local/lib/python3.6/site-packages/matplotlib/mpl-data/stylelib/_classic_test.mplstyle: \n",
      "The mathtext.fallback_to_cm rcparam was deprecated in Matplotlib 3.3 and will be removed two minor releases later.\n",
      "In /home/arurz/.local/lib/python3.6/site-packages/matplotlib/mpl-data/stylelib/_classic_test.mplstyle: Support for setting the 'mathtext.fallback_to_cm' rcParam is deprecated since 3.3 and will be removed two minor releases later; use 'mathtext.fallback : 'cm' instead.\n",
      "In /home/arurz/.local/lib/python3.6/site-packages/matplotlib/mpl-data/stylelib/_classic_test.mplstyle: \n",
      "The validate_bool_maybe_none function was deprecated in Matplotlib 3.3 and will be removed two minor releases later.\n",
      "In /home/arurz/.local/lib/python3.6/site-packages/matplotlib/mpl-data/stylelib/_classic_test.mplstyle: \n",
      "The savefig.jpeg_quality rcparam was deprecated in Matplotlib 3.3 and will be removed two minor releases later.\n",
      "In /home/arurz/.local/lib/python3.6/site-packages/matplotlib/mpl-data/stylelib/_classic_test.mplstyle: \n",
      "The keymap.all_axes rcparam was deprecated in Matplotlib 3.3 and will be removed two minor releases later.\n",
      "In /home/arurz/.local/lib/python3.6/site-packages/matplotlib/mpl-data/stylelib/_classic_test.mplstyle: \n",
      "The animation.avconv_path rcparam was deprecated in Matplotlib 3.3 and will be removed two minor releases later.\n",
      "In /home/arurz/.local/lib/python3.6/site-packages/matplotlib/mpl-data/stylelib/_classic_test.mplstyle: \n",
      "The animation.avconv_args rcparam was deprecated in Matplotlib 3.3 and will be removed two minor releases later.\n"
     ]
    }
   ],
   "source": [
    "using PyCall\n",
    "using PyPlot\n",
    "using LaTeXStrings\n",
    "using LinearAlgebra"
   ]
  },
  {
   "cell_type": "code",
   "execution_count": 2,
   "metadata": {},
   "outputs": [
    {
     "data": {
      "text/plain": [
       "PyObject <module 'matplotlib.colors' from '/home/arurz/.local/lib/python3.6/site-packages/matplotlib/colors.py'>"
      ]
     },
     "execution_count": 2,
     "metadata": {},
     "output_type": "execute_result"
    }
   ],
   "source": [
    "mp = pyimport(\"mpmath\")\n",
    "clrs = pyimport(\"matplotlib.colors\")"
   ]
  },
  {
   "cell_type": "code",
   "execution_count": 3,
   "metadata": {},
   "outputs": [],
   "source": [
    "rc(\"text\", usetex=true)"
   ]
  },
  {
   "cell_type": "code",
   "execution_count": 4,
   "metadata": {},
   "outputs": [],
   "source": [
    "N = 32\n",
    "dim = N+1\n",
    "\n",
    "t_list = range(0,stop=10,length=61)\n",
    "\n",
    ";"
   ]
  },
  {
   "cell_type": "code",
   "execution_count": 5,
   "metadata": {},
   "outputs": [],
   "source": [
    "K0 = zeros(Float64,(dim,dim))\n",
    "for j in 0:N\n",
    "    K0[j+1,j+1]=((N/2)-j)\n",
    "end\n",
    "\n",
    "KP = zeros(Float64,(dim,dim))\n",
    "for j in 0:N-1\n",
    "    KP[j+1,j+2]=(N-j)\n",
    "end\n",
    "\n",
    "KM = zeros(Float64,(dim,dim))\n",
    "for j in 0:N-1\n",
    "    KM[j+2,j+1]=(j+1)\n",
    "end\n",
    "\n",
    "MD = zeros(Float64,(dim,dim))\n",
    "for j in 0:N\n",
    "    MD[j+1,j+1]=j\n",
    "end"
   ]
  },
  {
   "cell_type": "code",
   "execution_count": 6,
   "metadata": {},
   "outputs": [],
   "source": [
    "function cost(t)\n",
    "    return cos(t*sqrt(2*MD))\n",
    "end\n",
    ";"
   ]
  },
  {
   "cell_type": "code",
   "execution_count": 7,
   "metadata": {},
   "outputs": [],
   "source": [
    "function prop(t)\n",
    "    return exp(KM)*exp(-KP/2)*cost(t)*exp(KP/2)*exp(-KM)\n",
    "end\n",
    ";"
   ]
  },
  {
   "cell_type": "code",
   "execution_count": 8,
   "metadata": {},
   "outputs": [],
   "source": [
    "function pint(a)\n",
    "    pv = zeros(Float64,dim)\n",
    "    for j in 0:N\n",
    "        if a == j\n",
    "            pv[j+1] = 1\n",
    "        else\n",
    "            pv[j+1] = 0\n",
    "        end\n",
    "    end\n",
    "    return pv\n",
    "end\n",
    ";"
   ]
  },
  {
   "cell_type": "code",
   "execution_count": 9,
   "metadata": {},
   "outputs": [],
   "source": [
    "icond1 = normalize(pint(0));\n",
    "icond2 = normalize(pint(8)+pint(24));\n",
    "icond3 = normalize(pint(16));"
   ]
  },
  {
   "cell_type": "code",
   "execution_count": 10,
   "metadata": {},
   "outputs": [],
   "source": [
    "A1=[]\n",
    "for t = 1:length(t_list)\n",
    "    append!(A1, normalize(prop(t_list[t])*icond1))\n",
    "end\n",
    "\n",
    "B1 = reshape(A1,33,:)\n",
    "\n",
    "A2=[]\n",
    "for t = 1:length(t_list)\n",
    "    append!(A2, normalize(prop(t_list[t])*icond2))\n",
    "end\n",
    "\n",
    "B2 = reshape(A2,33,:)\n",
    "\n",
    "A3=[]\n",
    "for t = 1:length(t_list)\n",
    "    append!(A3, normalize(prop(t_list[t])*icond3))\n",
    "end\n",
    "\n",
    "B3 = reshape(A3,33,:)\n",
    "\n",
    ";"
   ]
  },
  {
   "cell_type": "code",
   "execution_count": 11,
   "metadata": {},
   "outputs": [
    {
     "data": {
      "text/plain": [
       "(-1, 1)"
      ]
     },
     "execution_count": 11,
     "metadata": {},
     "output_type": "execute_result"
    }
   ],
   "source": [
    "vminh=-1#minimum((minimum(B1),minimum(B2),minimum(B3)));\n",
    "vmaxh=1#maximum((maximum(B1),maximum(B2),maximum(B3)));\n",
    "(vminh,vmaxh)"
   ]
  },
  {
   "cell_type": "code",
   "execution_count": 12,
   "metadata": {},
   "outputs": [
    {
     "data": {
      "text/plain": [
       "PyObject <matplotlib.colors.Normalize object at 0x7f74de186898>"
      ]
     },
     "execution_count": 12,
     "metadata": {},
     "output_type": "execute_result"
    }
   ],
   "source": [
    "nnorm = clrs.Normalize(vminh,vmaxh)"
   ]
  },
  {
   "cell_type": "code",
   "execution_count": 13,
   "metadata": {},
   "outputs": [
    {
     "data": {
      "image/png": "[encoded data removed]",
      "text/plain": [
       "Figure(PyObject <Figure size 620x620 with 4 Axes>)"
      ]
     },
     "metadata": {},
     "output_type": "display_data"
    }
   ],
   "source": [
    "cm = \"seismic\"\n",
    "\n",
    "ww = 6.20\n",
    "hh = ww\n",
    "\n",
    "fig,(ax1,ax2,ax3)=plt.subplots(3,1,figsize=(ww,hh),sharex=true)\n",
    "plt.subplots_adjust(hspace = 0.1)\n",
    "\n",
    "ax1.imshow(B1,vmin=vminh,vmax=vmaxh,cmap=cm)\n",
    "ax2.imshow(B2,vmin=vminh,vmax=vmaxh,cmap=cm)\n",
    "ax3.imshow(B3,vmin=vminh,vmax=vmaxh,cmap=cm)\n",
    "\n",
    "ax1.set_aspect(\"auto\")\n",
    "ax2.set_aspect(\"auto\")\n",
    "ax3.set_aspect(\"auto\")\n",
    "\n",
    "ax1.tick_params(direction=\"out\",length=5,width=2,labelsize=10)\n",
    "ax2.tick_params(direction=\"out\",length=5,width=2,labelsize=10)\n",
    "ax3.tick_params(direction=\"out\",length=5,width=2,labelsize=10)\n",
    "\n",
    "ax1.set_yticks(0:8:N, minor = false)\n",
    "ax2.set_yticks(0:8:N, minor = false)\n",
    "ax3.set_yticks(0:8:N, minor = false)\n",
    "\n",
    "ax3.set_xticks(0:30:61, minor = false)\n",
    "ax3.set_xticklabels([0,5,10])\n",
    "\n",
    "ax1.set_yticks(1:1:N, minor = true)\n",
    "ax1.grid(which = \"minor\", color = \"gray\", linestyle = \"-\", linewidth = 1, alpha = 0.25)\n",
    "ax2.set_yticks(1:1:N, minor = true)\n",
    "ax2.grid(which = \"minor\", color = \"gray\", linestyle = \"-\", linewidth = 1, alpha = 0.25)\n",
    "ax3.set_yticks(1:1:N, minor = true)\n",
    "ax3.grid(which = \"minor\", color = \"gray\", linestyle = \"-\", linewidth = 1, alpha = 0.25)\n",
    "\n",
    "ax1.set_ylabel(L\"q_{n}(t)\",fontsize=10)\n",
    "ax2.set_ylabel(L\"q_{n}(t)\",fontsize=10)\n",
    "ax3.set_ylabel(L\"q_{n}(t)\",fontsize=10)\n",
    "\n",
    "ax3.set_xlabel(L\"t\\ [s]\",fontsize=10)\n",
    "\n",
    "pcm = ax1.get_children()[10]\n",
    "cb = colorbar(pcm,ax=(ax1,ax2,ax3),extend=\"both\",ticks=[-1,-0.5,0,0.5,1],orientation=\"vertical\",shrink=0.7,aspect=35,fraction=0.015)\n",
    "cb.ax.tick_params(labelsize=10,length=5,width=1,direction=\"inout\")\n",
    "#cb.ax.set_ylabel(\"Amplitud\",fontsize=12,labelpad=0)\n",
    "\n",
    "tight_layout(rect=(0, 0, 0.9, 1))\n",
    "show()\n",
    "\n",
    "savefig(\"binom_vd.pdf\", transparent = \"true\", dpi=300, bbox_inches=\"tight\", pad_inches=0)"
   ]
  },
  {
   "cell_type": "code",
   "execution_count": null,
   "metadata": {},
   "outputs": [],
   "source": []
  }
 ],
 "metadata": {
  "kernelspec": {
   "display_name": "Julia 1.3.1",
   "language": "julia",
   "name": "julia-1.3"
  },
  "language_info": {
   "file_extension": ".jl",
   "mimetype": "application/julia",
   "name": "julia",
   "version": "1.3.1"
  }
 },
 "nbformat": 4,
 "nbformat_minor": 2
}
