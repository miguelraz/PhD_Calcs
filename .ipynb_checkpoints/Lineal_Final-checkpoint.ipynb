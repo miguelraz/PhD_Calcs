{
 "cells": [
  {
   "cell_type": "code",
   "execution_count": 2,
   "metadata": {},
   "outputs": [
    {
     "name": "stderr",
     "output_type": "stream",
     "text": [
      "\n",
      "Bad key text.latex.unicode in file /home/arurz/.local/lib/python3.6/site-packages/matplotlib/mpl-data/stylelib/_classic_test.mplstyle, line 112 ('text.latex.unicode : False # use \"ucs\" and \"inputenc\" LaTeX packages for handling')\n",
      "You probably need to get an updated matplotlibrc file from\n",
      "https://github.com/matplotlib/matplotlib/blob/v3.3.0/matplotlibrc.template\n",
      "or from the matplotlib source distribution\n",
      "\n",
      "Bad key savefig.frameon in file /home/arurz/.local/lib/python3.6/site-packages/matplotlib/mpl-data/stylelib/_classic_test.mplstyle, line 423 ('savefig.frameon : True')\n",
      "You probably need to get an updated matplotlibrc file from\n",
      "https://github.com/matplotlib/matplotlib/blob/v3.3.0/matplotlibrc.template\n",
      "or from the matplotlib source distribution\n",
      "\n",
      "Bad key pgf.debug in file /home/arurz/.local/lib/python3.6/site-packages/matplotlib/mpl-data/stylelib/_classic_test.mplstyle, line 444 ('pgf.debug           : False')\n",
      "You probably need to get an updated matplotlibrc file from\n",
      "https://github.com/matplotlib/matplotlib/blob/v3.3.0/matplotlibrc.template\n",
      "or from the matplotlib source distribution\n",
      "\n",
      "Bad key verbose.level in file /home/arurz/.local/lib/python3.6/site-packages/matplotlib/mpl-data/stylelib/_classic_test.mplstyle, line 475 ('verbose.level  : silent      # one of silent, helpful, debug, debug-annoying')\n",
      "You probably need to get an updated matplotlibrc file from\n",
      "https://github.com/matplotlib/matplotlib/blob/v3.3.0/matplotlibrc.template\n",
      "or from the matplotlib source distribution\n",
      "\n",
      "Bad key verbose.fileo in file /home/arurz/.local/lib/python3.6/site-packages/matplotlib/mpl-data/stylelib/_classic_test.mplstyle, line 476 ('verbose.fileo  : sys.stdout  # a log filename, sys.stdout or sys.stderr')\n",
      "You probably need to get an updated matplotlibrc file from\n",
      "https://github.com/matplotlib/matplotlib/blob/v3.3.0/matplotlibrc.template\n",
      "or from the matplotlib source distribution\n",
      "In /home/arurz/.local/lib/python3.6/site-packages/matplotlib/mpl-data/stylelib/_classic_test.mplstyle: \n",
      "The text.latex.preview rcparam was deprecated in Matplotlib 3.3 and will be removed two minor releases later.\n",
      "In /home/arurz/.local/lib/python3.6/site-packages/matplotlib/mpl-data/stylelib/_classic_test.mplstyle: \n",
      "The mathtext.fallback_to_cm rcparam was deprecated in Matplotlib 3.3 and will be removed two minor releases later.\n",
      "In /home/arurz/.local/lib/python3.6/site-packages/matplotlib/mpl-data/stylelib/_classic_test.mplstyle: Support for setting the 'mathtext.fallback_to_cm' rcParam is deprecated since 3.3 and will be removed two minor releases later; use 'mathtext.fallback : 'cm' instead.\n",
      "In /home/arurz/.local/lib/python3.6/site-packages/matplotlib/mpl-data/stylelib/_classic_test.mplstyle: \n",
      "The validate_bool_maybe_none function was deprecated in Matplotlib 3.3 and will be removed two minor releases later.\n",
      "In /home/arurz/.local/lib/python3.6/site-packages/matplotlib/mpl-data/stylelib/_classic_test.mplstyle: \n",
      "The savefig.jpeg_quality rcparam was deprecated in Matplotlib 3.3 and will be removed two minor releases later.\n",
      "In /home/arurz/.local/lib/python3.6/site-packages/matplotlib/mpl-data/stylelib/_classic_test.mplstyle: \n",
      "The keymap.all_axes rcparam was deprecated in Matplotlib 3.3 and will be removed two minor releases later.\n",
      "In /home/arurz/.local/lib/python3.6/site-packages/matplotlib/mpl-data/stylelib/_classic_test.mplstyle: \n",
      "The animation.avconv_path rcparam was deprecated in Matplotlib 3.3 and will be removed two minor releases later.\n",
      "In /home/arurz/.local/lib/python3.6/site-packages/matplotlib/mpl-data/stylelib/_classic_test.mplstyle: \n",
      "The animation.avconv_args rcparam was deprecated in Matplotlib 3.3 and will be removed two minor releases later.\n"
     ]
    }
   ],
   "source": [
    "using PyCall # Call PyCall wrapper\n",
    "using PyPlot # Call Matplotlib for plotting purposes\n",
    "using LaTeXStrings # Call LaTeX formatting library\n",
    "using LinearAlgebra # Call algebra library for vector manipulation"
   ]
  },
  {
   "cell_type": "code",
   "execution_count": 3,
   "metadata": {},
   "outputs": [
    {
     "data": {
      "text/plain": [
       "PyObject <module 'mpmath' from '/home/arurz/.local/lib/python3.6/site-packages/mpmath/__init__.py'>"
      ]
     },
     "execution_count": 3,
     "metadata": {},
     "output_type": "execute_result"
    }
   ],
   "source": [
    "mp = pyimport(\"mpmath\") # Import MPMath library for precission and float-number calculations"
   ]
  },
  {
   "cell_type": "code",
   "execution_count": null,
   "metadata": {},
   "outputs": [],
   "source": [
    "rc(\"text\", usetex=true) # TeX formatting for the labels and titles"
   ]
  },
  {
   "cell_type": "code",
   "execution_count": null,
   "metadata": {},
   "outputs": [],
   "source": [
    "N = 32 # Coupling's dimension\n",
    "dim = N+1 # Coupled element's dimension\n",
    "k = 1 # Strenght of the coupling\n",
    "\n",
    "t_list = range(0,stop=61,length=61) # Set the vector list of the time sampling\n",
    "\n",
    ";"
   ]
  },
  {
   "cell_type": "code",
   "execution_count": null,
   "metadata": {},
   "outputs": [],
   "source": [
    "function pint(a) # Initial condition as a vector with an amplitude at position 0<=a<=N+1\n",
    "    pv = zeros(Float64,dim)\n",
    "    for j in 0:N\n",
    "        if a == j\n",
    "            pv[j+1] = 1\n",
    "        else\n",
    "            pv[j+1] = 0\n",
    "        end\n",
    "    end\n",
    "    return pv\n",
    "end"
   ]
  },
  {
   "cell_type": "code",
   "execution_count": null,
   "metadata": {},
   "outputs": [],
   "source": [
    "function cheb(n,x) # Define the Chebyshev functions of the second kind\n",
    "    return convert(Float64,mp.chebyu(n,x))\n",
    "end\n",
    "\n",
    "function phi(j) # Phase\n",
    "    return pi*j/(N+2)\n",
    "end\n",
    "\n",
    "function y(j)\n",
    "    return cos(phi(j))\n",
    "end\n",
    "\n",
    "function osc(t,j)\n",
    "    return cos(2*t*sqrt(k)*sin(phi(j+1)/2))\n",
    "end\n",
    "\n",
    "function deno(j) # Normalization\n",
    "    sv = zeros(Float64,dim)\n",
    "    for s in 0:N \n",
    "        sv[s+1] = cheb(s,y(j+1))^2\n",
    "    end\n",
    "    return sum(sv)\n",
    "end\n",
    "\n",
    "function multcheb(n,l,j) # Two-dimensional Chebyshev's\n",
    "    return cheb(n,y(j+1))*cheb(l,y(j+1))\n",
    "end\n",
    "\n",
    ";"
   ]
  },
  {
   "cell_type": "code",
   "execution_count": null,
   "metadata": {},
   "outputs": [],
   "source": [
    "dnom = zeros(Float64,dim) # Vector of normalization data, this is always the same for a N-dimensional system\n",
    "@time for j in 0:N\n",
    "    dnom[j+1]=deno(j)\n",
    "end"
   ]
  },
  {
   "cell_type": "code",
   "execution_count": null,
   "metadata": {},
   "outputs": [],
   "source": [
    "mcheb = zeros(Float64,(dim,dim,dim)) # Matrix of the two-dimensional Chebyshev's\n",
    "@time for n in 0:N\n",
    "    for l in 0:N\n",
    "        for j in 0:N\n",
    "            mcheb[n+1,l+1,j+1]=multcheb(n,l,j)\n",
    "        end\n",
    "    end\n",
    "end"
   ]
  },
  {
   "cell_type": "code",
   "execution_count": null,
   "metadata": {},
   "outputs": [],
   "source": [
    "oscm = zeros(Float64,(dim,length(t_list))) # Vector of the oscilatory terms\n",
    "@time for t in 1:length(t_list)\n",
    "    for j in 0:N\n",
    "        oscm[j+1,t]=osc(t_list[t],j)\n",
    "    end\n",
    "end"
   ]
  },
  {
   "cell_type": "code",
   "execution_count": null,
   "metadata": {},
   "outputs": [],
   "source": [
    "icond1 = normalize(pint(0)) # Initial condition one\n",
    "\n",
    "function q1(t,n)\n",
    "    mevol = zeros(Float64,(dim,dim))\n",
    "    for l in 0:N\n",
    "        for j in 0:N\n",
    "            mevol[l+1,j+1] = (mcheb[n,l+1,j+1]/dnom[j+1])*oscm[j+1,t]*icond1[l+1]\n",
    "        end\n",
    "    end\n",
    "    return sum(mevol)\n",
    "end\n",
    "\n",
    "icond2 = normalize(pint(8)+pint(24)) # Initial condition two\n",
    "\n",
    "function q2(t,n)\n",
    "    mevol = zeros(Float64,(dim,dim))\n",
    "    for l in 0:N\n",
    "        for j in 0:N\n",
    "            mevol[l+1,j+1] = (mcheb[n,l+1,j+1]/dnom[j+1])*oscm[j+1,t]*icond2[l+1]\n",
    "        end\n",
    "    end\n",
    "    return sum(mevol)\n",
    "end\n",
    "\n",
    "icond3 = normalize(pint(16)) # Initial condition three\n",
    "\n",
    "function q3(t,n)\n",
    "    mevol = zeros(Float64,(dim,dim))\n",
    "    for l in 0:N\n",
    "        for j in 0:N\n",
    "            mevol[l+1,j+1] = (mcheb[n,l+1,j+1]/dnom[j+1])*oscm[j+1,t]*icond3[l+1]\n",
    "        end\n",
    "    end\n",
    "    return sum(mevol)\n",
    "end\n",
    "\n",
    "\n",
    ";"
   ]
  },
  {
   "cell_type": "code",
   "execution_count": null,
   "metadata": {},
   "outputs": [],
   "source": [
    "evolt1 = zeros(Float64,(dim,length(t_list))) # Time evolution of the initial condition one\n",
    "for t in 1:length(t_list)\n",
    "    for n in 0:N    \n",
    "       evolt1[n+1,t] = q1(t,n+1)\n",
    "    end\n",
    "end\n",
    "\n",
    "evolt2 = zeros(Float64,(dim,length(t_list))) # Time evolution of the initial condition two\n",
    "for t in 1:length(t_list)\n",
    "    for n in 0:N    \n",
    "       evolt2[n+1,t] = q2(t,n+1)\n",
    "    end\n",
    "end\n",
    "\n",
    "evolt3 = zeros(Float64,(dim,length(t_list))) # Time evolution of the initial condition three\n",
    "for t in 1:length(t_list)\n",
    "    for n in 0:N    \n",
    "       evolt3[n+1,t] = q3(t,n+1)\n",
    "    end\n",
    "end"
   ]
  },
  {
   "cell_type": "code",
   "execution_count": null,
   "metadata": {},
   "outputs": [],
   "source": [
    "vminh = -1 #minimum((minimum(evolt1),minimum(evolt2),minimum(evolt3))) # Normalized minima of the three evolutions\n",
    "vmaxh = maximum((maximum(evolt1),maximum(evolt2),maximum(evolt3))) # Normalized miaxima of the three evolutions\n",
    ";"
   ]
  },
  {
   "cell_type": "code",
   "execution_count": null,
   "metadata": {},
   "outputs": [],
   "source": [
    "# FIGURE PLOT\n",
    "\n",
    "cm = \"seismic\" # Diverging colormap for plotting negative and positive values\n",
    "\n",
    "ww = 6.20 # Width size of the figure\n",
    "hh = ww # Height size of the figure\n",
    "\n",
    "fig,(ax1,ax2,ax3)=plt.subplots(3,1,figsize=(ww,hh),sharex=true)\n",
    "plt.subplots_adjust(hspace = 0.1)\n",
    "\n",
    "ax1.imshow(evolt1,vmin=vminh,vmax=vmaxh,cmap=cm)\n",
    "ax2.imshow(evolt2,vmin=vminh,vmax=vmaxh,cmap=cm)\n",
    "ax3.imshow(evolt3,vmin=vminh,vmax=vmaxh,cmap=cm)\n",
    "\n",
    "ax1.set_aspect(\"auto\")\n",
    "ax2.set_aspect(\"auto\")\n",
    "ax3.set_aspect(\"auto\")\n",
    "\n",
    "ax1.tick_params(direction=\"out\",length=5,width=1,labelsize=10)\n",
    "ax2.tick_params(direction=\"out\",length=5,width=1,labelsize=10)\n",
    "ax3.tick_params(direction=\"out\",length=5,width=1,labelsize=10)\n",
    "\n",
    "ax1.set_yticks(0:8:N, minor = false)\n",
    "ax2.set_yticks(0:8:N, minor = false)\n",
    "ax3.set_yticks(0:8:N, minor = false)\n",
    "\n",
    "ax1.set_yticks(1:1:N, minor = true)\n",
    "ax1.grid(which = \"minor\", color = \"gray\", linestyle = \":\", linewidth = 1, alpha = 0.25)\n",
    "ax2.set_yticks(1:1:N, minor = true)\n",
    "ax2.grid(which = \"minor\", color = \"gray\", linestyle = \":\", linewidth = 1, alpha = 0.25)\n",
    "ax3.set_yticks(1:1:N, minor = true)\n",
    "ax3.grid(which = \"minor\", color = \"gray\", linestyle = \":\", linewidth = 1, alpha = 0.25)\n",
    "\n",
    "ax1.set_ylabel(L\"q_{n}(t)\",fontsize=10)\n",
    "ax2.set_ylabel(L\"q_{n}(t)\",fontsize=10)\n",
    "ax3.set_ylabel(L\"q_{n}(t)\",fontsize=10)\n",
    "\n",
    "ax3.set_xlabel(L\"t\\ [s]\",fontsize=10)\n",
    "\n",
    "pcm = ax1.get_children()[10]\n",
    "cb = colorbar(pcm,ax=(ax1,ax2,ax3),extend=\"both\",ticks=[-1,-0.5,0,0.5,1],orientation=\"vertical\",shrink=0.7,aspect=35,fraction=0.015)\n",
    "cb.ax.tick_params(labelsize=10,length=5,width=1,direction=\"inout\")\n",
    "#cb.ax.set_ylabel(\"Amplitud\",fontsize=12,labelpad=0)\n",
    "\n",
    "tight_layout(rect=(0, 0, 0.9, 1))\n",
    "show()\n",
    "\n",
    "savefig(\"lin_vd.pdf\", transparent = \"true\", dpi=300, bbox_inches=\"tight\", pad_inches=0)"
   ]
  },
  {
   "cell_type": "code",
   "execution_count": 6,
   "metadata": {},
   "outputs": [
    {
     "name": "stdout",
     "output_type": "stream",
     "text": [
      "Julia: 1.4.2\n",
      "PyCall: 3.6.9\n",
      "PyPlot: 3.3.0\n",
      "MPMath: 1.0.0\n",
      "OS Kernel: Linux\n",
      "Architecture: x86_64"
     ]
    }
   ],
   "source": [
    "print(\"Julia:\",\" \", VERSION, \"\\nPyCall:\",\" \", PyCall.pyversion, \"\\nPyPlot:\",\" \", PyPlot.version, \"\\nMPMath:\",\" \", mp.__version__, \"\\nOS Kernel:\",\" \", Sys.KERNEL, \"\\nArchitecture:\",\" \", Sys.ARCH)"
   ]
  },
  {
   "cell_type": "code",
   "execution_count": null,
   "metadata": {},
   "outputs": [],
   "source": []
  }
 ],
 "metadata": {
  "kernelspec": {
   "display_name": "Julia 1.4.2",
   "language": "julia",
   "name": "julia-1.4"
  },
  "language_info": {
   "file_extension": ".jl",
   "mimetype": "application/julia",
   "name": "julia",
   "version": "1.3.1"
  }
 },
 "nbformat": 4,
 "nbformat_minor": 2
}
