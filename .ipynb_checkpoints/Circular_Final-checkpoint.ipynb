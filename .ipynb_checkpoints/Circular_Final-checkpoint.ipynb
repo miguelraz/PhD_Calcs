{
 "cells": [
  {
   "cell_type": "markdown",
   "metadata": {},
   "source": [
    "# **Amplitude evolution in the circular array**\n",
    "\n",
    "## Developed by Alejandro R. Urzúa \n",
    "#### **Disclaimer**: This is an Open Source Code. Everyone is able to copy, fork, modify and submit their suggested changes and improvements"
   ]
  },
  {
   "cell_type": "code",
   "execution_count": null,
   "metadata": {},
   "outputs": [],
   "source": [
    "using PyCall # Call PyCall wrapper\n",
    "using PyPlot # Call Matplotlib for plotting purposes\n",
    "using LaTeXStrings # Call LaTeX formatting library\n",
    "using LinearAlgebra # Call algebra library for vector manipulation"
   ]
  },
  {
   "cell_type": "code",
   "execution_count": null,
   "metadata": {},
   "outputs": [],
   "source": [
    "rc(\"text\", usetex=true) # TeX formatting for the labels and titles"
   ]
  },
  {
   "cell_type": "code",
   "execution_count": null,
   "metadata": {},
   "outputs": [],
   "source": [
    "N = 32 # Coupling's dimension\n",
    "dim = N+1 # Coupled element's dimension\n",
    "k = 1 # Strenght of the coupling\n",
    ";"
   ]
  },
  {
   "cell_type": "code",
   "execution_count": null,
   "metadata": {},
   "outputs": [],
   "source": [
    "function F1(t,m,n,l) # Define the analytic function of the evolution, thesis equation (1.13) \n",
    "    return cos(2*t*sqrt(k)*sin(pi*m/(N+1)))*cos((2*pi*m/(N+1))*(n-l))\n",
    "end\n",
    ";"
   ]
  },
  {
   "cell_type": "code",
   "execution_count": null,
   "metadata": {},
   "outputs": [],
   "source": [
    "function pint(a) # Initial condition as a vector with an amplitude at position 0<=a<=N+1\n",
    "    pv = zeros(Float64,dim)\n",
    "    for j in 0:N\n",
    "        if a == j\n",
    "            pv[j+1] = 1\n",
    "        else\n",
    "            pv[j+1] = 0\n",
    "        end\n",
    "    end\n",
    "    return pv\n",
    "end\n",
    "\n",
    "gv = zeros(Float64,dim)\n",
    "for j in 0:N\n",
    "    gv[j+1] = exp(-((j-N/4)/(N/8))^(2))\n",
    "end\n",
    "    \n",
    "catv = zeros(Float64,dim)\n",
    "for j in 0:N\n",
    "    catv[j+1] = exp(-((j-15)/(N/10))^(2))+exp(-((j-45)/(N/10))^(2))\n",
    "end\n",
    ";"
   ]
  },
  {
   "cell_type": "code",
   "execution_count": null,
   "metadata": {},
   "outputs": [],
   "source": [
    "icond1 = normalize(pint(0)) # Initial condition one\n",
    "\n",
    "function q1(t,n)\n",
    "    mevol = zeros(Float64,(dim,dim))\n",
    "    for m in 0:N\n",
    "        for l in 0:N\n",
    "            mevol[m+1,l+1] = F1(t,m,n,l)*icond1[l+1]\n",
    "        end\n",
    "    end\n",
    "    return (1/(N+1))*sum(mevol)\n",
    "end\n",
    "\n",
    "icond2 = normalize(pint(8)+pint(24)) # Initial condition two\n",
    "\n",
    "function q2(t,n)\n",
    "    mevol = zeros(Float64,(dim,dim))\n",
    "    for m in 0:N\n",
    "        for l in 0:N\n",
    "            mevol[m+1,l+1] = F1(t,m,n,l)*icond2[l+1]\n",
    "        end\n",
    "    end\n",
    "    return (1/(N+1))*sum(mevol)\n",
    "end\n",
    "\n",
    "icond3 = normalize(pint(16)) # Initial condition three\n",
    "\n",
    "function q3(t,n)\n",
    "    mevol = zeros(Float64,(dim,dim))\n",
    "    for m in 0:N\n",
    "        for l in 0:N\n",
    "            mevol[m+1,l+1] = F1(t,m,n,l)*icond3[l+1]\n",
    "        end\n",
    "    end\n",
    "    return (1/(N+1))*sum(mevol)\n",
    "end\n",
    ";"
   ]
  },
  {
   "cell_type": "code",
   "execution_count": null,
   "metadata": {},
   "outputs": [],
   "source": [
    "t_list = range(0,stop=61,length=61) # Set the vector list of the time sampling\n",
    "\n",
    "evolt1 = zeros(Float64,(dim,length(t_list))) # Time evolution of the initial condition one\n",
    "for t in 1:length(t_list)\n",
    "    for n in 0:N    \n",
    "       evolt1[n+1,t] = q1(t_list[t],n)\n",
    "    end\n",
    "end\n",
    "\n",
    "evolt2 = zeros(Float64,(dim,length(t_list))) # Time evolution of the initial condition two\n",
    "for t in 1:length(t_list)\n",
    "    for n in 0:N    \n",
    "       evolt2[n+1,t] = q2(t_list[t],n)\n",
    "    end\n",
    "end\n",
    "\n",
    "evolt3 = zeros(Float64,(N+1,length(t_list))) # Time evolution of the initial condition three\n",
    "for t in 1:length(t_list)\n",
    "    for n in 0:N    \n",
    "       evolt3[n+1,t] = q3(t_list[t],n)\n",
    "    end\n",
    "end"
   ]
  },
  {
   "cell_type": "code",
   "execution_count": null,
   "metadata": {},
   "outputs": [],
   "source": [
    "vminh = -1 #minimum((minimum(evolt1),minimum(evolt2),minimum(evolt3))) # Normalized minima of the three evolutions\n",
    "vmaxh = maximum((maximum(evolt1),maximum(evolt2),maximum(evolt3))) # Normalized miaxima of the three evolutions\n",
    ";"
   ]
  },
  {
   "cell_type": "code",
   "execution_count": null,
   "metadata": {},
   "outputs": [],
   "source": [
    "# FIGURE PLOT\n",
    "\n",
    "cm = \"seismic\" # Diverging colormap for plotting negative and positive values\n",
    "\n",
    "ww = 6.20 # Width size of the figure\n",
    "hh = ww # Height size of the figure\n",
    "\n",
    "fig,(ax1,ax2,ax3)=plt.subplots(3,1,figsize=(ww,hh),sharex=true)\n",
    "plt.subplots_adjust(hspace = 0.1)\n",
    "\n",
    "ax1.imshow(evolt1,vmin=vminh,vmax=vmaxh,cmap=cm)\n",
    "ax2.imshow(evolt2,vmin=vminh,vmax=vmaxh,cmap=cm)\n",
    "ax3.imshow(evolt3,vmin=vminh,vmax=vmaxh,cmap=cm)\n",
    "\n",
    "ax1.set_aspect(\"auto\")\n",
    "ax2.set_aspect(\"auto\")\n",
    "ax3.set_aspect(\"auto\")\n",
    "\n",
    "ax1.tick_params(direction=\"out\",length=5,width=1,labelsize=10)\n",
    "ax2.tick_params(direction=\"out\",length=5,width=1,labelsize=10)\n",
    "ax3.tick_params(direction=\"out\",length=5,width=1,labelsize=10)\n",
    "\n",
    "ax1.set_yticks(0:8:N, minor = false)\n",
    "ax2.set_yticks(0:8:N, minor = false)\n",
    "ax3.set_yticks(0:8:N, minor = false)\n",
    "\n",
    "ax1.set_yticks(1:1:N, minor = true)\n",
    "ax1.grid(which = \"minor\", color = \"gray\", linestyle = \":\", linewidth = 0.5, alpha = 0.25)\n",
    "ax2.set_yticks(1:1:N, minor = true)\n",
    "ax2.grid(which = \"minor\", color = \"gray\", linestyle = \":\", linewidth = 0.5, alpha = 0.25)\n",
    "ax3.set_yticks(1:1:N, minor = true)\n",
    "ax3.grid(which = \"minor\", color = \"gray\", linestyle = \":\", linewidth = 0.5, alpha = 0.25)\n",
    "\n",
    "ax1.set_ylabel(L\"q_{n}(t)\",fontsize=10)\n",
    "ax2.set_ylabel(L\"q_{n}(t)\",fontsize=10)\n",
    "ax3.set_ylabel(L\"q_{n}(t)\",fontsize=10)\n",
    "\n",
    "ax3.set_xlabel(L\"t\\ [s]\",fontsize=10)\n",
    "\n",
    "pcm = ax1.get_children()[10]\n",
    "cb = colorbar(pcm,ax=(ax1,ax2,ax3),extend=\"both\",ticks=[-1,-0.5,0,0.5,1],orientation=\"vertical\",shrink=0.7,aspect=35,fraction=0.015)\n",
    "cb.ax.tick_params(labelsize=10,length=5,width=1,direction=\"inout\")\n",
    "#cb.ax.set_ylabel(\"Amplitud\",fontsize=12,labelpad=0)\n",
    "\n",
    "tight_layout(rect=(0, 0, 0.9, 1))\n",
    "show()\n",
    "\n",
    "#savefig(\"circ_vd.pdf\", transparent = \"true\", dpi=300, bbox_inches=\"tight\", pad_inches=0)"
   ]
  },
  {
   "cell_type": "code",
   "execution_count": null,
   "metadata": {},
   "outputs": [],
   "source": [
    "print(\"Julia:\",\" \", VERSION, \"\\nPyCall:\",\" \", PyCall.pyversion, \"\\nPyPlot:\",\" \", PyPlot.version, \"\\nOS Kernel:\",\" \", Sys.KERNEL, \"\\nArchitecture:\",\" \", Sys.ARCH)"
   ]
  },
  {
   "cell_type": "code",
   "execution_count": null,
   "metadata": {},
   "outputs": [],
   "source": []
  }
 ],
 "metadata": {
  "kernelspec": {
   "display_name": "Julia 1.4.2",
   "language": "julia",
   "name": "julia-1.4"
  },
  "language_info": {
   "file_extension": ".jl",
   "mimetype": "application/julia",
   "name": "julia",
   "version": "1.4.2"
  }
 },
 "nbformat": 4,
 "nbformat_minor": 2
}
